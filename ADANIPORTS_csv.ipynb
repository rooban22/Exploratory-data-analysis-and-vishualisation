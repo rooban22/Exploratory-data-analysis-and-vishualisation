{
  "nbformat": 4,
  "nbformat_minor": 0,
  "metadata": {
    "colab": {
      "name": "ADANIPORTS.csv.ipynb",
      "provenance": [],
      "authorship_tag": "ABX9TyNaHWhBtRd2NVKdNogmKleg",
      "include_colab_link": true
    },
    "kernelspec": {
      "name": "python3",
      "display_name": "Python 3"
    },
    "language_info": {
      "name": "python"
    }
  },
  "cells": [
    {
      "cell_type": "markdown",
      "metadata": {
        "id": "view-in-github",
        "colab_type": "text"
      },
      "source": [
        "<a href=\"https://colab.research.google.com/github/rooban22/Exploratory-data-analysis-and-vishualisation/blob/main/ADANIPORTS_csv.ipynb\" target=\"_parent\"><img src=\"https://colab.research.google.com/assets/colab-badge.svg\" alt=\"Open In Colab\"/></a>"
      ]
    },
    {
      "cell_type": "code",
      "execution_count": 19,
      "metadata": {
        "id": "Jv8mEmHJV8b-"
      },
      "outputs": [],
      "source": [
        "import numpy as np\n",
        "import pandas as pd\n",
        "import matplotlib.pyplot as plt\n",
        "import seaborn as sns"
      ]
    },
    {
      "cell_type": "code",
      "source": [
        "adn_df=pd.read_csv('ADANIPORTS.csv')\n",
        "adn_df.head(10)"
      ],
      "metadata": {
        "colab": {
          "base_uri": "https://localhost:8080/",
          "height": 618
        },
        "id": "2LB-bVE1W24l",
        "outputId": "892d0ac1-278d-4956-da94-b7fab417e936"
      },
      "execution_count": 20,
      "outputs": [
        {
          "output_type": "execute_result",
          "data": {
            "text/plain": [
              "         Date      Symbol Series  Prev Close     Open     High     Low  \\\n",
              "0  2007-11-27  MUNDRAPORT     EQ      440.00   770.00  1050.00   770.0   \n",
              "1  2007-11-28  MUNDRAPORT     EQ      962.90   984.00   990.00   874.0   \n",
              "2  2007-11-29  MUNDRAPORT     EQ      893.90   909.00   914.75   841.0   \n",
              "3  2007-11-30  MUNDRAPORT     EQ      884.20   890.00   958.00   890.0   \n",
              "4  2007-12-03  MUNDRAPORT     EQ      921.55   939.75   995.00   922.0   \n",
              "5  2007-12-04  MUNDRAPORT     EQ      969.30   985.00  1056.00   976.0   \n",
              "6  2007-12-05  MUNDRAPORT     EQ     1041.45  1061.00  1099.50  1050.0   \n",
              "7  2007-12-06  MUNDRAPORT     EQ     1082.45  1089.00  1109.70  1051.0   \n",
              "8  2007-12-07  MUNDRAPORT     EQ     1081.30  1100.00  1134.00  1078.0   \n",
              "9  2007-12-10  MUNDRAPORT     EQ     1102.40  1110.00  1110.00  1061.1   \n",
              "\n",
              "      Last    Close     VWAP    Volume      Turnover  Trades  \\\n",
              "0   959.00   962.90   984.72  27294366  2.687719e+15     NaN   \n",
              "1   885.00   893.90   941.38   4581338  4.312765e+14     NaN   \n",
              "2   887.00   884.20   888.09   5124121  4.550658e+14     NaN   \n",
              "3   929.00   921.55   929.17   4609762  4.283257e+14     NaN   \n",
              "4   980.00   969.30   965.65   2977470  2.875200e+14     NaN   \n",
              "5  1049.00  1041.45  1015.39   4849250  4.923867e+14     NaN   \n",
              "6  1084.00  1082.45  1082.79   2848209  3.084010e+14     NaN   \n",
              "7  1090.10  1081.30  1087.03   1749516  1.901771e+14     NaN   \n",
              "8  1100.00  1102.40  1106.57   2247904  2.487465e+14     NaN   \n",
              "9  1073.55  1075.40  1080.38   1012350  1.093727e+14     NaN   \n",
              "\n",
              "   Deliverable Volume  %Deliverble  \n",
              "0             9859619       0.3612  \n",
              "1             1453278       0.3172  \n",
              "2             1069678       0.2088  \n",
              "3             1260913       0.2735  \n",
              "4              816123       0.2741  \n",
              "5             1537667       0.3171  \n",
              "6              904260       0.3175  \n",
              "7              825691       0.4720  \n",
              "8              697763       0.3104  \n",
              "9              417514       0.4124  "
            ],
            "text/html": [
              "\n",
              "  <div id=\"df-ec3cfc7e-e4f9-4fb8-80b4-eb70109f3604\">\n",
              "    <div class=\"colab-df-container\">\n",
              "      <div>\n",
              "<style scoped>\n",
              "    .dataframe tbody tr th:only-of-type {\n",
              "        vertical-align: middle;\n",
              "    }\n",
              "\n",
              "    .dataframe tbody tr th {\n",
              "        vertical-align: top;\n",
              "    }\n",
              "\n",
              "    .dataframe thead th {\n",
              "        text-align: right;\n",
              "    }\n",
              "</style>\n",
              "<table border=\"1\" class=\"dataframe\">\n",
              "  <thead>\n",
              "    <tr style=\"text-align: right;\">\n",
              "      <th></th>\n",
              "      <th>Date</th>\n",
              "      <th>Symbol</th>\n",
              "      <th>Series</th>\n",
              "      <th>Prev Close</th>\n",
              "      <th>Open</th>\n",
              "      <th>High</th>\n",
              "      <th>Low</th>\n",
              "      <th>Last</th>\n",
              "      <th>Close</th>\n",
              "      <th>VWAP</th>\n",
              "      <th>Volume</th>\n",
              "      <th>Turnover</th>\n",
              "      <th>Trades</th>\n",
              "      <th>Deliverable Volume</th>\n",
              "      <th>%Deliverble</th>\n",
              "    </tr>\n",
              "  </thead>\n",
              "  <tbody>\n",
              "    <tr>\n",
              "      <th>0</th>\n",
              "      <td>2007-11-27</td>\n",
              "      <td>MUNDRAPORT</td>\n",
              "      <td>EQ</td>\n",
              "      <td>440.00</td>\n",
              "      <td>770.00</td>\n",
              "      <td>1050.00</td>\n",
              "      <td>770.0</td>\n",
              "      <td>959.00</td>\n",
              "      <td>962.90</td>\n",
              "      <td>984.72</td>\n",
              "      <td>27294366</td>\n",
              "      <td>2.687719e+15</td>\n",
              "      <td>NaN</td>\n",
              "      <td>9859619</td>\n",
              "      <td>0.3612</td>\n",
              "    </tr>\n",
              "    <tr>\n",
              "      <th>1</th>\n",
              "      <td>2007-11-28</td>\n",
              "      <td>MUNDRAPORT</td>\n",
              "      <td>EQ</td>\n",
              "      <td>962.90</td>\n",
              "      <td>984.00</td>\n",
              "      <td>990.00</td>\n",
              "      <td>874.0</td>\n",
              "      <td>885.00</td>\n",
              "      <td>893.90</td>\n",
              "      <td>941.38</td>\n",
              "      <td>4581338</td>\n",
              "      <td>4.312765e+14</td>\n",
              "      <td>NaN</td>\n",
              "      <td>1453278</td>\n",
              "      <td>0.3172</td>\n",
              "    </tr>\n",
              "    <tr>\n",
              "      <th>2</th>\n",
              "      <td>2007-11-29</td>\n",
              "      <td>MUNDRAPORT</td>\n",
              "      <td>EQ</td>\n",
              "      <td>893.90</td>\n",
              "      <td>909.00</td>\n",
              "      <td>914.75</td>\n",
              "      <td>841.0</td>\n",
              "      <td>887.00</td>\n",
              "      <td>884.20</td>\n",
              "      <td>888.09</td>\n",
              "      <td>5124121</td>\n",
              "      <td>4.550658e+14</td>\n",
              "      <td>NaN</td>\n",
              "      <td>1069678</td>\n",
              "      <td>0.2088</td>\n",
              "    </tr>\n",
              "    <tr>\n",
              "      <th>3</th>\n",
              "      <td>2007-11-30</td>\n",
              "      <td>MUNDRAPORT</td>\n",
              "      <td>EQ</td>\n",
              "      <td>884.20</td>\n",
              "      <td>890.00</td>\n",
              "      <td>958.00</td>\n",
              "      <td>890.0</td>\n",
              "      <td>929.00</td>\n",
              "      <td>921.55</td>\n",
              "      <td>929.17</td>\n",
              "      <td>4609762</td>\n",
              "      <td>4.283257e+14</td>\n",
              "      <td>NaN</td>\n",
              "      <td>1260913</td>\n",
              "      <td>0.2735</td>\n",
              "    </tr>\n",
              "    <tr>\n",
              "      <th>4</th>\n",
              "      <td>2007-12-03</td>\n",
              "      <td>MUNDRAPORT</td>\n",
              "      <td>EQ</td>\n",
              "      <td>921.55</td>\n",
              "      <td>939.75</td>\n",
              "      <td>995.00</td>\n",
              "      <td>922.0</td>\n",
              "      <td>980.00</td>\n",
              "      <td>969.30</td>\n",
              "      <td>965.65</td>\n",
              "      <td>2977470</td>\n",
              "      <td>2.875200e+14</td>\n",
              "      <td>NaN</td>\n",
              "      <td>816123</td>\n",
              "      <td>0.2741</td>\n",
              "    </tr>\n",
              "    <tr>\n",
              "      <th>5</th>\n",
              "      <td>2007-12-04</td>\n",
              "      <td>MUNDRAPORT</td>\n",
              "      <td>EQ</td>\n",
              "      <td>969.30</td>\n",
              "      <td>985.00</td>\n",
              "      <td>1056.00</td>\n",
              "      <td>976.0</td>\n",
              "      <td>1049.00</td>\n",
              "      <td>1041.45</td>\n",
              "      <td>1015.39</td>\n",
              "      <td>4849250</td>\n",
              "      <td>4.923867e+14</td>\n",
              "      <td>NaN</td>\n",
              "      <td>1537667</td>\n",
              "      <td>0.3171</td>\n",
              "    </tr>\n",
              "    <tr>\n",
              "      <th>6</th>\n",
              "      <td>2007-12-05</td>\n",
              "      <td>MUNDRAPORT</td>\n",
              "      <td>EQ</td>\n",
              "      <td>1041.45</td>\n",
              "      <td>1061.00</td>\n",
              "      <td>1099.50</td>\n",
              "      <td>1050.0</td>\n",
              "      <td>1084.00</td>\n",
              "      <td>1082.45</td>\n",
              "      <td>1082.79</td>\n",
              "      <td>2848209</td>\n",
              "      <td>3.084010e+14</td>\n",
              "      <td>NaN</td>\n",
              "      <td>904260</td>\n",
              "      <td>0.3175</td>\n",
              "    </tr>\n",
              "    <tr>\n",
              "      <th>7</th>\n",
              "      <td>2007-12-06</td>\n",
              "      <td>MUNDRAPORT</td>\n",
              "      <td>EQ</td>\n",
              "      <td>1082.45</td>\n",
              "      <td>1089.00</td>\n",
              "      <td>1109.70</td>\n",
              "      <td>1051.0</td>\n",
              "      <td>1090.10</td>\n",
              "      <td>1081.30</td>\n",
              "      <td>1087.03</td>\n",
              "      <td>1749516</td>\n",
              "      <td>1.901771e+14</td>\n",
              "      <td>NaN</td>\n",
              "      <td>825691</td>\n",
              "      <td>0.4720</td>\n",
              "    </tr>\n",
              "    <tr>\n",
              "      <th>8</th>\n",
              "      <td>2007-12-07</td>\n",
              "      <td>MUNDRAPORT</td>\n",
              "      <td>EQ</td>\n",
              "      <td>1081.30</td>\n",
              "      <td>1100.00</td>\n",
              "      <td>1134.00</td>\n",
              "      <td>1078.0</td>\n",
              "      <td>1100.00</td>\n",
              "      <td>1102.40</td>\n",
              "      <td>1106.57</td>\n",
              "      <td>2247904</td>\n",
              "      <td>2.487465e+14</td>\n",
              "      <td>NaN</td>\n",
              "      <td>697763</td>\n",
              "      <td>0.3104</td>\n",
              "    </tr>\n",
              "    <tr>\n",
              "      <th>9</th>\n",
              "      <td>2007-12-10</td>\n",
              "      <td>MUNDRAPORT</td>\n",
              "      <td>EQ</td>\n",
              "      <td>1102.40</td>\n",
              "      <td>1110.00</td>\n",
              "      <td>1110.00</td>\n",
              "      <td>1061.1</td>\n",
              "      <td>1073.55</td>\n",
              "      <td>1075.40</td>\n",
              "      <td>1080.38</td>\n",
              "      <td>1012350</td>\n",
              "      <td>1.093727e+14</td>\n",
              "      <td>NaN</td>\n",
              "      <td>417514</td>\n",
              "      <td>0.4124</td>\n",
              "    </tr>\n",
              "  </tbody>\n",
              "</table>\n",
              "</div>\n",
              "      <button class=\"colab-df-convert\" onclick=\"convertToInteractive('df-ec3cfc7e-e4f9-4fb8-80b4-eb70109f3604')\"\n",
              "              title=\"Convert this dataframe to an interactive table.\"\n",
              "              style=\"display:none;\">\n",
              "        \n",
              "  <svg xmlns=\"http://www.w3.org/2000/svg\" height=\"24px\"viewBox=\"0 0 24 24\"\n",
              "       width=\"24px\">\n",
              "    <path d=\"M0 0h24v24H0V0z\" fill=\"none\"/>\n",
              "    <path d=\"M18.56 5.44l.94 2.06.94-2.06 2.06-.94-2.06-.94-.94-2.06-.94 2.06-2.06.94zm-11 1L8.5 8.5l.94-2.06 2.06-.94-2.06-.94L8.5 2.5l-.94 2.06-2.06.94zm10 10l.94 2.06.94-2.06 2.06-.94-2.06-.94-.94-2.06-.94 2.06-2.06.94z\"/><path d=\"M17.41 7.96l-1.37-1.37c-.4-.4-.92-.59-1.43-.59-.52 0-1.04.2-1.43.59L10.3 9.45l-7.72 7.72c-.78.78-.78 2.05 0 2.83L4 21.41c.39.39.9.59 1.41.59.51 0 1.02-.2 1.41-.59l7.78-7.78 2.81-2.81c.8-.78.8-2.07 0-2.86zM5.41 20L4 18.59l7.72-7.72 1.47 1.35L5.41 20z\"/>\n",
              "  </svg>\n",
              "      </button>\n",
              "      \n",
              "  <style>\n",
              "    .colab-df-container {\n",
              "      display:flex;\n",
              "      flex-wrap:wrap;\n",
              "      gap: 12px;\n",
              "    }\n",
              "\n",
              "    .colab-df-convert {\n",
              "      background-color: #E8F0FE;\n",
              "      border: none;\n",
              "      border-radius: 50%;\n",
              "      cursor: pointer;\n",
              "      display: none;\n",
              "      fill: #1967D2;\n",
              "      height: 32px;\n",
              "      padding: 0 0 0 0;\n",
              "      width: 32px;\n",
              "    }\n",
              "\n",
              "    .colab-df-convert:hover {\n",
              "      background-color: #E2EBFA;\n",
              "      box-shadow: 0px 1px 2px rgba(60, 64, 67, 0.3), 0px 1px 3px 1px rgba(60, 64, 67, 0.15);\n",
              "      fill: #174EA6;\n",
              "    }\n",
              "\n",
              "    [theme=dark] .colab-df-convert {\n",
              "      background-color: #3B4455;\n",
              "      fill: #D2E3FC;\n",
              "    }\n",
              "\n",
              "    [theme=dark] .colab-df-convert:hover {\n",
              "      background-color: #434B5C;\n",
              "      box-shadow: 0px 1px 3px 1px rgba(0, 0, 0, 0.15);\n",
              "      filter: drop-shadow(0px 1px 2px rgba(0, 0, 0, 0.3));\n",
              "      fill: #FFFFFF;\n",
              "    }\n",
              "  </style>\n",
              "\n",
              "      <script>\n",
              "        const buttonEl =\n",
              "          document.querySelector('#df-ec3cfc7e-e4f9-4fb8-80b4-eb70109f3604 button.colab-df-convert');\n",
              "        buttonEl.style.display =\n",
              "          google.colab.kernel.accessAllowed ? 'block' : 'none';\n",
              "\n",
              "        async function convertToInteractive(key) {\n",
              "          const element = document.querySelector('#df-ec3cfc7e-e4f9-4fb8-80b4-eb70109f3604');\n",
              "          const dataTable =\n",
              "            await google.colab.kernel.invokeFunction('convertToInteractive',\n",
              "                                                     [key], {});\n",
              "          if (!dataTable) return;\n",
              "\n",
              "          const docLinkHtml = 'Like what you see? Visit the ' +\n",
              "            '<a target=\"_blank\" href=https://colab.research.google.com/notebooks/data_table.ipynb>data table notebook</a>'\n",
              "            + ' to learn more about interactive tables.';\n",
              "          element.innerHTML = '';\n",
              "          dataTable['output_type'] = 'display_data';\n",
              "          await google.colab.output.renderOutput(dataTable, element);\n",
              "          const docLink = document.createElement('div');\n",
              "          docLink.innerHTML = docLinkHtml;\n",
              "          element.appendChild(docLink);\n",
              "        }\n",
              "      </script>\n",
              "    </div>\n",
              "  </div>\n",
              "  "
            ]
          },
          "metadata": {},
          "execution_count": 20
        }
      ]
    },
    {
      "cell_type": "code",
      "source": [
        "#describing the dataset\n",
        "adn_df.info()\n",
        "adn_df.describe\n"
      ],
      "metadata": {
        "colab": {
          "base_uri": "https://localhost:8080/"
        },
        "id": "ewyjw5MGlcZO",
        "outputId": "6f66a1dd-8d75-4e75-bdd0-ddb2aa2b98ec"
      },
      "execution_count": 21,
      "outputs": [
        {
          "output_type": "stream",
          "name": "stdout",
          "text": [
            "<class 'pandas.core.frame.DataFrame'>\n",
            "RangeIndex: 3322 entries, 0 to 3321\n",
            "Data columns (total 15 columns):\n",
            " #   Column              Non-Null Count  Dtype  \n",
            "---  ------              --------------  -----  \n",
            " 0   Date                3322 non-null   object \n",
            " 1   Symbol              3322 non-null   object \n",
            " 2   Series              3322 non-null   object \n",
            " 3   Prev Close          3322 non-null   float64\n",
            " 4   Open                3322 non-null   float64\n",
            " 5   High                3322 non-null   float64\n",
            " 6   Low                 3322 non-null   float64\n",
            " 7   Last                3322 non-null   float64\n",
            " 8   Close               3322 non-null   float64\n",
            " 9   VWAP                3322 non-null   float64\n",
            " 10  Volume              3322 non-null   int64  \n",
            " 11  Turnover            3322 non-null   float64\n",
            " 12  Trades              2456 non-null   float64\n",
            " 13  Deliverable Volume  3322 non-null   int64  \n",
            " 14  %Deliverble         3322 non-null   float64\n",
            "dtypes: float64(10), int64(2), object(3)\n",
            "memory usage: 389.4+ KB\n"
          ]
        },
        {
          "output_type": "execute_result",
          "data": {
            "text/plain": [
              "<bound method NDFrame.describe of             Date      Symbol Series  Prev Close    Open     High     Low  \\\n",
              "0     2007-11-27  MUNDRAPORT     EQ      440.00  770.00  1050.00  770.00   \n",
              "1     2007-11-28  MUNDRAPORT     EQ      962.90  984.00   990.00  874.00   \n",
              "2     2007-11-29  MUNDRAPORT     EQ      893.90  909.00   914.75  841.00   \n",
              "3     2007-11-30  MUNDRAPORT     EQ      884.20  890.00   958.00  890.00   \n",
              "4     2007-12-03  MUNDRAPORT     EQ      921.55  939.75   995.00  922.00   \n",
              "...          ...         ...    ...         ...     ...      ...     ...   \n",
              "3317  2021-04-26  ADANIPORTS     EQ      725.35  733.00   739.65  728.90   \n",
              "3318  2021-04-27  ADANIPORTS     EQ      730.75  735.00   757.50  727.35   \n",
              "3319  2021-04-28  ADANIPORTS     EQ      749.15  755.00   760.00  741.10   \n",
              "3320  2021-04-29  ADANIPORTS     EQ      746.25  753.20   765.85  743.40   \n",
              "3321  2021-04-30  ADANIPORTS     EQ      746.75  739.00   759.45  724.50   \n",
              "\n",
              "       Last   Close    VWAP    Volume      Turnover    Trades  \\\n",
              "0     959.0  962.90  984.72  27294366  2.687719e+15       NaN   \n",
              "1     885.0  893.90  941.38   4581338  4.312765e+14       NaN   \n",
              "2     887.0  884.20  888.09   5124121  4.550658e+14       NaN   \n",
              "3     929.0  921.55  929.17   4609762  4.283257e+14       NaN   \n",
              "4     980.0  969.30  965.65   2977470  2.875200e+14       NaN   \n",
              "...     ...     ...     ...       ...           ...       ...   \n",
              "3317  729.2  730.75  733.25   9390549  6.885658e+14  116457.0   \n",
              "3318  748.6  749.15  747.67  20573107  1.538191e+15  236896.0   \n",
              "3319  743.4  746.25  751.02  11156977  8.379106e+14  130847.0   \n",
              "3320  746.4  746.75  753.06  13851910  1.043139e+15  153293.0   \n",
              "3321  726.4  730.05  743.35  12600934  9.366911e+14  132141.0   \n",
              "\n",
              "      Deliverable Volume  %Deliverble  \n",
              "0                9859619       0.3612  \n",
              "1                1453278       0.3172  \n",
              "2                1069678       0.2088  \n",
              "3                1260913       0.2735  \n",
              "4                 816123       0.2741  \n",
              "...                  ...          ...  \n",
              "3317              838079       0.0892  \n",
              "3318             1779639       0.0865  \n",
              "3319             1342353       0.1203  \n",
              "3320             1304895       0.0942  \n",
              "3321             3514692       0.2789  \n",
              "\n",
              "[3322 rows x 15 columns]>"
            ]
          },
          "metadata": {},
          "execution_count": 21
        }
      ]
    },
    {
      "cell_type": "code",
      "source": [
        "#cleaning process\n",
        "to_drop = ['Trades','Deliverable Volume','%Deliverble']\n",
        "\n",
        "adn_df.drop(to_drop, inplace=True, axis=1)\n",
        "adn_df.info()\n",
        "adn_df.describe"
      ],
      "metadata": {
        "colab": {
          "base_uri": "https://localhost:8080/"
        },
        "id": "DF4Xsqnpl_H6",
        "outputId": "5186b3e0-b907-4034-9c7f-c2b2345d349a"
      },
      "execution_count": 22,
      "outputs": [
        {
          "output_type": "stream",
          "name": "stdout",
          "text": [
            "<class 'pandas.core.frame.DataFrame'>\n",
            "RangeIndex: 3322 entries, 0 to 3321\n",
            "Data columns (total 12 columns):\n",
            " #   Column      Non-Null Count  Dtype  \n",
            "---  ------      --------------  -----  \n",
            " 0   Date        3322 non-null   object \n",
            " 1   Symbol      3322 non-null   object \n",
            " 2   Series      3322 non-null   object \n",
            " 3   Prev Close  3322 non-null   float64\n",
            " 4   Open        3322 non-null   float64\n",
            " 5   High        3322 non-null   float64\n",
            " 6   Low         3322 non-null   float64\n",
            " 7   Last        3322 non-null   float64\n",
            " 8   Close       3322 non-null   float64\n",
            " 9   VWAP        3322 non-null   float64\n",
            " 10  Volume      3322 non-null   int64  \n",
            " 11  Turnover    3322 non-null   float64\n",
            "dtypes: float64(8), int64(1), object(3)\n",
            "memory usage: 311.6+ KB\n"
          ]
        },
        {
          "output_type": "execute_result",
          "data": {
            "text/plain": [
              "<bound method NDFrame.describe of             Date      Symbol Series  Prev Close    Open     High     Low  \\\n",
              "0     2007-11-27  MUNDRAPORT     EQ      440.00  770.00  1050.00  770.00   \n",
              "1     2007-11-28  MUNDRAPORT     EQ      962.90  984.00   990.00  874.00   \n",
              "2     2007-11-29  MUNDRAPORT     EQ      893.90  909.00   914.75  841.00   \n",
              "3     2007-11-30  MUNDRAPORT     EQ      884.20  890.00   958.00  890.00   \n",
              "4     2007-12-03  MUNDRAPORT     EQ      921.55  939.75   995.00  922.00   \n",
              "...          ...         ...    ...         ...     ...      ...     ...   \n",
              "3317  2021-04-26  ADANIPORTS     EQ      725.35  733.00   739.65  728.90   \n",
              "3318  2021-04-27  ADANIPORTS     EQ      730.75  735.00   757.50  727.35   \n",
              "3319  2021-04-28  ADANIPORTS     EQ      749.15  755.00   760.00  741.10   \n",
              "3320  2021-04-29  ADANIPORTS     EQ      746.25  753.20   765.85  743.40   \n",
              "3321  2021-04-30  ADANIPORTS     EQ      746.75  739.00   759.45  724.50   \n",
              "\n",
              "       Last   Close    VWAP    Volume      Turnover  \n",
              "0     959.0  962.90  984.72  27294366  2.687719e+15  \n",
              "1     885.0  893.90  941.38   4581338  4.312765e+14  \n",
              "2     887.0  884.20  888.09   5124121  4.550658e+14  \n",
              "3     929.0  921.55  929.17   4609762  4.283257e+14  \n",
              "4     980.0  969.30  965.65   2977470  2.875200e+14  \n",
              "...     ...     ...     ...       ...           ...  \n",
              "3317  729.2  730.75  733.25   9390549  6.885658e+14  \n",
              "3318  748.6  749.15  747.67  20573107  1.538191e+15  \n",
              "3319  743.4  746.25  751.02  11156977  8.379106e+14  \n",
              "3320  746.4  746.75  753.06  13851910  1.043139e+15  \n",
              "3321  726.4  730.05  743.35  12600934  9.366911e+14  \n",
              "\n",
              "[3322 rows x 12 columns]>"
            ]
          },
          "metadata": {},
          "execution_count": 22
        }
      ]
    },
    {
      "cell_type": "code",
      "source": [
        "#graphical vishualisation \n",
        "sns.distplot(adn_df['Open'])"
      ],
      "metadata": {
        "colab": {
          "base_uri": "https://localhost:8080/",
          "height": 351
        },
        "id": "kAXXQG6bvpv9",
        "outputId": "cdf34cbf-8b16-4d1b-924e-05606c74875d"
      },
      "execution_count": 32,
      "outputs": [
        {
          "output_type": "stream",
          "name": "stderr",
          "text": [
            "/usr/local/lib/python3.7/dist-packages/seaborn/distributions.py:2619: FutureWarning: `distplot` is a deprecated function and will be removed in a future version. Please adapt your code to use either `displot` (a figure-level function with similar flexibility) or `histplot` (an axes-level function for histograms).\n",
            "  warnings.warn(msg, FutureWarning)\n"
          ]
        },
        {
          "output_type": "execute_result",
          "data": {
            "text/plain": [
              "<matplotlib.axes._subplots.AxesSubplot at 0x7f18561a6c10>"
            ]
          },
          "metadata": {},
          "execution_count": 32
        },
        {
          "output_type": "display_data",
          "data": {
            "text/plain": [
              "<Figure size 432x288 with 1 Axes>"
            ],
            "image/png": "[encoded data removed]"
          },
          "metadata": {
            "needs_background": "light"
          }
        }
      ]
    },
    {
      "cell_type": "code",
      "source": [
        "sns.distplot(adn_df['Close'])"
      ],
      "metadata": {
        "colab": {
          "base_uri": "https://localhost:8080/",
          "height": 351
        },
        "id": "i_-KhBbSygV5",
        "outputId": "5911e661-8f3a-4921-9c67-bfecd5db1baf"
      },
      "execution_count": 33,
      "outputs": [
        {
          "output_type": "stream",
          "name": "stderr",
          "text": [
            "/usr/local/lib/python3.7/dist-packages/seaborn/distributions.py:2619: FutureWarning: `distplot` is a deprecated function and will be removed in a future version. Please adapt your code to use either `displot` (a figure-level function with similar flexibility) or `histplot` (an axes-level function for histograms).\n",
            "  warnings.warn(msg, FutureWarning)\n"
          ]
        },
        {
          "output_type": "execute_result",
          "data": {
            "text/plain": [
              "<matplotlib.axes._subplots.AxesSubplot at 0x7f1855fc1c10>"
            ]
          },
          "metadata": {},
          "execution_count": 33
        },
        {
          "output_type": "display_data",
          "data": {
            "text/plain": [
              "<Figure size 432x288 with 1 Axes>"
            ],
            "image/png": "[encoded data removed]"
          },
          "metadata": {
            "needs_background": "light"
          }
        }
      ]
    },
    {
      "cell_type": "code",
      "source": [
        "#scatter plot Date/Turnover\n",
        "var = 'Date'\n",
        "data = pd.concat([adn_df['Turnover'], adn_df[var]], axis=1)\n",
        "data.plot.scatter(x=var, y='Turnover')"
      ],
      "metadata": {
        "colab": {
          "base_uri": "https://localhost:8080/",
          "height": 290
        },
        "id": "O1XuE7Ztysug",
        "outputId": "736e5a27-8aec-4bdf-e059-24227097c0b3"
      },
      "execution_count": 35,
      "outputs": [
        {
          "output_type": "display_data",
          "data": {
            "text/plain": [
              "<Figure size 432x288 with 1 Axes>"
            ],
            "image/png": "[encoded data removed]"
          },
          "metadata": {
            "needs_background": "light"
          }
        }
      ]
    },
    {
      "cell_type": "code",
      "source": [
        "#scatter plot Volume-weighted average price(VWAP)/Volume\n",
        "var = 'VWAP'\n",
        "data = pd.concat([adn_df['Volume'], adn_df[var]], axis=1)\n",
        "data.plot.scatter(x=var, y='Volume')"
      ],
      "metadata": {
        "colab": {
          "base_uri": "https://localhost:8080/",
          "height": 307
        },
        "id": "6FxbW-2Szrvl",
        "outputId": "fb003503-74ad-4ec0-90aa-c87d3d42a3a5"
      },
      "execution_count": 37,
      "outputs": [
        {
          "output_type": "execute_result",
          "data": {
            "text/plain": [
              "<matplotlib.axes._subplots.AxesSubplot at 0x7f18560ebf10>"
            ]
          },
          "metadata": {},
          "execution_count": 37
        },
        {
          "output_type": "display_data",
          "data": {
            "text/plain": [
              "<Figure size 432x288 with 1 Axes>"
            ],
            "image/png": "[encoded data removed]"
          },
          "metadata": {
            "needs_background": "light"
          }
        }
      ]
    },
    {
      "cell_type": "code",
      "source": [
        ""
      ],
      "metadata": {
        "id": "zlcVSaX10U7E"
      },
      "execution_count": null,
      "outputs": []
    }
  ]
}